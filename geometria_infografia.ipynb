{
 "cells": [
  {
   "cell_type": "code",
   "execution_count": 0,
   "metadata": {},
   "source": [
    "pip install matplotlib numpy imageio\n"
   ]
  },
  {
   "cell_type": "code",
   "execution_count": 1,
   "metadata": {},
   "outputs": [],
   "source": [
    "import matplotlib.pyplot as plt\n",
    "import numpy as np\n",
    "import imageio"
   ]
  },
  {
   "cell_type": "code",
   "execution_count": 10,
   "metadata": {},
   "outputs": [
    {
     "name": "stderr",
     "output_type": "stream",
     "text": [
      "C:\\Users\\USUARIO\\AppData\\Local\\Temp\\ipykernel_5992\\609710233.py:38: DeprecationWarning: Starting with ImageIO v3 the behavior of this function will switch to that of iio.v3.imread. To keep the current behavior (and make this warning disappear) use `import imageio.v2 as imageio` or call `imageio.v2.imread` directly.\n",
      "  images.append(imageio.imread('cuadro_{:03d}.png'.format(i)))\n"
     ]
    }
   ],
   "source": [
    "# Definimos los vértices del triángulo escaleno ABC\n",
    "A = np.array([2, 3])\n",
    "B = np.array([4, 3])\n",
    "C = np.array([3, 5])\n",
    "\n",
    "# Definimos el centro de homotecia O y la razón de homotecia k\n",
    "O = np.array([0, 0])\n",
    "k = 1.5\n",
    "\n",
    "# Creamos una serie de imágenes para el GIF\n",
    "images = []\n",
    "for i in range(100):\n",
    "    ki = 1 + i * (k - 1) / 99  # Interpolamos entre 1 y k\n",
    "\n",
    "    # Aplicamos la homotecia para obtener los vértices del triángulo A'B'C'\n",
    "    A_ = O + ki * (A - O)\n",
    "    B_ = O + ki * (B - O)\n",
    "    C_ = O + ki * (C - O)\n",
    "\n",
    "    # Dibujamos los triángulos ABC y A'B'C'\n",
    "    plt.figure()\n",
    "    plt.plot([A[0], B[0], C[0], A[0]], [A[1], B[1], C[1], A[1]], 'b-', label='ABC')\n",
    "    plt.plot([A_[0], B_[0], C_[0], A_[0]], [A_[1], B_[1], C_[1], A_[1]], 'r-', label=\"A'B'C'\")\n",
    "    \n",
    "    # Dibujamos las líneas que conectan los puntos correspondientes y se extienden hasta el infinito\n",
    "    plt.plot([A[0], A_[0] + 10 * (A_[0] - A[0])], [A[1], A_[1] + 10 * (A_[1] - A[1])], 'g--')\n",
    "    plt.plot([B[0], B_[0] + 10 * (B_[0] - B[0])], [B[1], B_[1] + 10 * (B_[1] - B[1])], 'g--')\n",
    "    plt.plot([C[0], C_[0] + 10 * (C_[0] - C[0])], [C[1], C_[1] + 10 * (C_[1] - C[1])], 'g--')\n",
    "\n",
    "    plt.legend()\n",
    "    plt.grid(True)\n",
    "    plt.xlim(2, 7)  # Ajustamos los límites del gráfico para visualizar mejor las líneas extendidas\n",
    "    plt.ylim(2.5, 8)\n",
    "    plt.savefig('cuadro_{:03d}.png'.format(i))  # Guardamos la imagen\n",
    "    plt.close()\n",
    "\n",
    "    # Añadimos la imagen a la lista de imágenes\n",
    "    images.append(imageio.imread('cuadro_{:03d}.png'.format(i)))\n",
    "\n",
    "# Creamos el GIF\n",
    "imageio.mimsave('homotecia_con_lineas_final.gif', images)"
   ]
  }
 ],
 "metadata": {
  "kernelspec": {
   "display_name": "Python 3",
   "language": "python",
   "name": "python3"
  },
  "language_info": {
   "codemirror_mode": {
    "name": "ipython",
    "version": 3
   },
   "file_extension": ".py",
   "mimetype": "text/x-python",
   "name": "python",
   "nbconvert_exporter": "python",
   "pygments_lexer": "ipython3",
   "version": "3.10.8"
  }
 },
 "nbformat": 4,
 "nbformat_minor": 2
}
