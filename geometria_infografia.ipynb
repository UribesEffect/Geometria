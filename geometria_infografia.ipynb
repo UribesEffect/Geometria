{
 "cells": [
  {
   "cell_type": "code",
   "execution_count": 4,
   "metadata": {},
   "outputs": [
    {
     "name": "stdout",
     "output_type": "stream",
     "text": [
      "Requirement already satisfied: matplotlib in c:\\users\\usuario\\appdata\\local\\programs\\python\\python310\\lib\\site-packages (3.8.3)\n",
      "Requirement already satisfied: numpy in c:\\users\\usuario\\appdata\\local\\programs\\python\\python310\\lib\\site-packages (1.26.4)\n",
      "Requirement already satisfied: imageio in c:\\users\\usuario\\appdata\\local\\programs\\python\\python310\\lib\\site-packages (2.35.1)\n",
      "Requirement already satisfied: contourpy>=1.0.1 in c:\\users\\usuario\\appdata\\local\\programs\\python\\python310\\lib\\site-packages (from matplotlib) (1.2.0)\n",
      "Requirement already satisfied: cycler>=0.10 in c:\\users\\usuario\\appdata\\local\\programs\\python\\python310\\lib\\site-packages (from matplotlib) (0.12.1)\n",
      "Requirement already satisfied: fonttools>=4.22.0 in c:\\users\\usuario\\appdata\\local\\programs\\python\\python310\\lib\\site-packages (from matplotlib) (4.49.0)\n",
      "Requirement already satisfied: kiwisolver>=1.3.1 in c:\\users\\usuario\\appdata\\local\\programs\\python\\python310\\lib\\site-packages (from matplotlib) (1.4.5)\n",
      "Requirement already satisfied: packaging>=20.0 in c:\\users\\usuario\\appdata\\roaming\\python\\python310\\site-packages (from matplotlib) (23.2)\n",
      "Requirement already satisfied: pillow>=8 in c:\\users\\usuario\\appdata\\local\\programs\\python\\python310\\lib\\site-packages (from matplotlib) (10.2.0)\n",
      "Requirement already satisfied: pyparsing>=2.3.1 in c:\\users\\usuario\\appdata\\local\\programs\\python\\python310\\lib\\site-packages (from matplotlib) (3.1.2)\n",
      "Requirement already satisfied: python-dateutil>=2.7 in c:\\users\\usuario\\appdata\\roaming\\python\\python310\\site-packages (from matplotlib) (2.8.2)\n",
      "Requirement already satisfied: six>=1.5 in c:\\users\\usuario\\appdata\\roaming\\python\\python310\\site-packages (from python-dateutil>=2.7->matplotlib) (1.16.0)\n",
      "Note: you may need to restart the kernel to use updated packages.\n"
     ]
    },
    {
     "name": "stderr",
     "output_type": "stream",
     "text": [
      "\n",
      "[notice] A new release of pip is available: 24.0 -> 24.2\n",
      "[notice] To update, run: python.exe -m pip install --upgrade pip\n"
     ]
    }
   ],
   "source": [
    "pip install matplotlib numpy imageio\n"
   ]
  },
  {
   "cell_type": "code",
   "execution_count": 1,
   "metadata": {},
   "outputs": [],
   "source": [
    "import matplotlib.pyplot as plt\n",
    "import numpy as np\n",
    "import imageio"
   ]
  },
  {
   "cell_type": "code",
   "execution_count": 10,
   "metadata": {},
   "outputs": [
    {
     "name": "stderr",
     "output_type": "stream",
     "text": [
      "C:\\Users\\USUARIO\\AppData\\Local\\Temp\\ipykernel_5992\\609710233.py:38: DeprecationWarning: Starting with ImageIO v3 the behavior of this function will switch to that of iio.v3.imread. To keep the current behavior (and make this warning disappear) use `import imageio.v2 as imageio` or call `imageio.v2.imread` directly.\n",
      "  images.append(imageio.imread('cuadro_{:03d}.png'.format(i)))\n"
     ]
    }
   ],
   "source": [
    "# Definimos los vértices del triángulo escaleno ABC\n",
    "A = np.array([2, 3])\n",
    "B = np.array([4, 3])\n",
    "C = np.array([3, 5])\n",
    "\n",
    "# Definimos el centro de homotecia O y la razón de homotecia k\n",
    "O = np.array([0, 0])\n",
    "k = 1.5\n",
    "\n",
    "# Creamos una serie de imágenes para el GIF\n",
    "images = []\n",
    "for i in range(100):\n",
    "    ki = 1 + i * (k - 1) / 99  # Interpolamos entre 1 y k\n",
    "\n",
    "    # Aplicamos la homotecia para obtener los vértices del triángulo A'B'C'\n",
    "    A_ = O + ki * (A - O)\n",
    "    B_ = O + ki * (B - O)\n",
    "    C_ = O + ki * (C - O)\n",
    "\n",
    "    # Dibujamos los triángulos ABC y A'B'C'\n",
    "    plt.figure()\n",
    "    plt.plot([A[0], B[0], C[0], A[0]], [A[1], B[1], C[1], A[1]], 'b-', label='ABC')\n",
    "    plt.plot([A_[0], B_[0], C_[0], A_[0]], [A_[1], B_[1], C_[1], A_[1]], 'r-', label=\"A'B'C'\")\n",
    "    \n",
    "    # Dibujamos las líneas que conectan los puntos correspondientes y se extienden hasta el infinito\n",
    "    plt.plot([A[0], A_[0] + 10 * (A_[0] - A[0])], [A[1], A_[1] + 10 * (A_[1] - A[1])], 'g--')\n",
    "    plt.plot([B[0], B_[0] + 10 * (B_[0] - B[0])], [B[1], B_[1] + 10 * (B_[1] - B[1])], 'g--')\n",
    "    plt.plot([C[0], C_[0] + 10 * (C_[0] - C[0])], [C[1], C_[1] + 10 * (C_[1] - C[1])], 'g--')\n",
    "\n",
    "    plt.legend()\n",
    "    plt.grid(True)\n",
    "    plt.xlim(2, 7)  # Ajustamos los límites del gráfico para visualizar mejor las líneas extendidas\n",
    "    plt.ylim(2.5, 8)\n",
    "    plt.savefig('cuadro_{:03d}.png'.format(i))  # Guardamos la imagen\n",
    "    plt.close()\n",
    "\n",
    "    # Añadimos la imagen a la lista de imágenes\n",
    "    images.append(imageio.imread('cuadro_{:03d}.png'.format(i)))\n",
    "\n",
    "# Creamos el GIF\n",
    "imageio.mimsave('homotecia_con_lineas_final.gif', images)"
   ]
  }
 ],
 "metadata": {
  "kernelspec": {
   "display_name": "Python 3",
   "language": "python",
   "name": "python3"
  },
  "language_info": {
   "codemirror_mode": {
    "name": "ipython",
    "version": 3
   },
   "file_extension": ".py",
   "mimetype": "text/x-python",
   "name": "python",
   "nbconvert_exporter": "python",
   "pygments_lexer": "ipython3",
   "version": "3.10.8"
  }
 },
 "nbformat": 4,
 "nbformat_minor": 2
}
